{
 "cells": [
  {
   "cell_type": "markdown",
   "id": "ad7c0905-5e74-45a3-beac-c0c21fa845fc",
   "metadata": {},
   "source": [
    "# Digital Service Usage Rwanda Dataset – Data Cleaning and Preprocessing\n",
    "\n",
    "In this notebook, we perform data preparation, cleaning, and preprocessing for the Digital Service Usage Rwanda Dataset, which contains information about citizens’ interactions with various digital services across Rwanda’s districts. The dataset captures key metrics such as the number of users reported, satisfaction scores, departments, and service names over time.\n",
    "\n",
    "Effective data cleaning ensures that the dataset is accurate, consistent, and ready for analysis. This process helps uncover patterns in digital adoption, identify service performance gaps, and provide valuable insights for improving digital service delivery and citizen satisfaction.\n",
    "\n",
    "Throughout this notebook, we will address common data quality issues such as missing values, duplicate records, inconsistent formatting, and invalid entries, ensuring that all columns are properly structured and formatted for analysis. We will also handle numerical and categorical variables appropriately and prepare the dataset for visualization or modeling tasks.\n",
    "\n",
    "By the end of this preprocessing stage, the dataset will be well-structured, reliable, and analysis-ready, forming a solid foundation for any further analytics, reporting, or policy evaluation related to Rwanda’s digital transformation initiatives.\n"
   ]
  },
  {
   "cell_type": "markdown",
   "id": "54d5ce80-b127-4633-b472-56120bbcf81c",
   "metadata": {},
   "source": [
    "We start by importing essential Python libraries for data handling and manipulation.\n",
    "\n",
    "- `pandas` for structured data operations.\n",
    "\n",
    "- `numpy` for numerical operations.\n",
    "\n",
    "- `os` for interacting with the operating system and directory structures.\n"
   ]
  },
  {
   "cell_type": "code",
   "execution_count": 14,
   "id": "e87af54e-ac62-4d6d-a79e-10175ce73210",
   "metadata": {},
   "outputs": [],
   "source": [
    "# Import libraries\n",
    "\n",
    "import pandas as pd\n",
    "import numpy as np\n",
    "import os"
   ]
  },
  {
   "cell_type": "code",
   "execution_count": 1,
   "id": "f5a1e1db-361a-4a90-b517-3599d82cb3a1",
   "metadata": {},
   "outputs": [
    {
     "data": {
      "text/html": [
       "<div>\n",
       "<style scoped>\n",
       "    .dataframe tbody tr th:only-of-type {\n",
       "        vertical-align: middle;\n",
       "    }\n",
       "\n",
       "    .dataframe tbody tr th {\n",
       "        vertical-align: top;\n",
       "    }\n",
       "\n",
       "    .dataframe thead th {\n",
       "        text-align: right;\n",
       "    }\n",
       "</style>\n",
       "<table border=\"1\" class=\"dataframe\">\n",
       "  <thead>\n",
       "    <tr style=\"text-align: right;\">\n",
       "      <th></th>\n",
       "      <th>District</th>\n",
       "      <th>Service_Name</th>\n",
       "      <th>Department</th>\n",
       "      <th>Users_Reported</th>\n",
       "      <th>Satisfaction_Score_(%)</th>\n",
       "      <th>Year</th>\n",
       "      <th>Month</th>\n",
       "    </tr>\n",
       "  </thead>\n",
       "  <tbody>\n",
       "    <tr>\n",
       "      <th>0</th>\n",
       "      <td>Musanze</td>\n",
       "      <td>eTax Portal</td>\n",
       "      <td>Ministry of Health</td>\n",
       "      <td>910.0</td>\n",
       "      <td>NaN</td>\n",
       "      <td>2022</td>\n",
       "      <td>Unknown</td>\n",
       "    </tr>\n",
       "    <tr>\n",
       "      <th>1</th>\n",
       "      <td>Gasabo</td>\n",
       "      <td>Land Registration Portal</td>\n",
       "      <td>Immigration Department</td>\n",
       "      <td>3822.0</td>\n",
       "      <td>93.6</td>\n",
       "      <td>2023</td>\n",
       "      <td>Dec</td>\n",
       "    </tr>\n",
       "    <tr>\n",
       "      <th>2</th>\n",
       "      <td>Rusizi</td>\n",
       "      <td>eTax Portal</td>\n",
       "      <td>Rwanda Revenue Authority</td>\n",
       "      <td>516.0</td>\n",
       "      <td>82.9</td>\n",
       "      <td>2024</td>\n",
       "      <td>Mar</td>\n",
       "    </tr>\n",
       "    <tr>\n",
       "      <th>3</th>\n",
       "      <td>Nyagatare</td>\n",
       "      <td>E-Visa Service</td>\n",
       "      <td>Ministry of ICT</td>\n",
       "      <td>4476.0</td>\n",
       "      <td>NaN</td>\n",
       "      <td>2024</td>\n",
       "      <td>Jun</td>\n",
       "    </tr>\n",
       "    <tr>\n",
       "      <th>4</th>\n",
       "      <td>Nyagatare</td>\n",
       "      <td>Digital Health Records</td>\n",
       "      <td>Rwanda Revenue Authority</td>\n",
       "      <td>NaN</td>\n",
       "      <td>NaN</td>\n",
       "      <td>2023</td>\n",
       "      <td>May</td>\n",
       "    </tr>\n",
       "  </tbody>\n",
       "</table>\n",
       "</div>"
      ],
      "text/plain": [
       "    District              Service_Name                Department  \\\n",
       "0    Musanze               eTax Portal        Ministry of Health   \n",
       "1     Gasabo  Land Registration Portal    Immigration Department   \n",
       "2     Rusizi               eTax Portal  Rwanda Revenue Authority   \n",
       "3  Nyagatare            E-Visa Service           Ministry of ICT   \n",
       "4  Nyagatare    Digital Health Records  Rwanda Revenue Authority   \n",
       "\n",
       "   Users_Reported  Satisfaction_Score_(%)  Year    Month  \n",
       "0           910.0                     NaN  2022  Unknown  \n",
       "1          3822.0                    93.6  2023      Dec  \n",
       "2           516.0                    82.9  2024      Mar  \n",
       "3          4476.0                     NaN  2024      Jun  \n",
       "4             NaN                     NaN  2023      May  "
      ]
     },
     "execution_count": 1,
     "metadata": {},
     "output_type": "execute_result"
    }
   ],
   "source": [
    "import pandas as pd\n",
    "\n",
    "# Load the dataset\n",
    "df = pd.read_csv(\"DigitalServiceUsage_Rwanda - DigitalServiceUsage_Rwanda.csv\")\n",
    "\n",
    "# Check first few rows\n",
    "df.head()\n"
   ]
  },
  {
   "cell_type": "code",
   "execution_count": 2,
   "id": "c1b73155-ab36-4230-abeb-2048e398ef93",
   "metadata": {},
   "outputs": [
    {
     "name": "stdout",
     "output_type": "stream",
     "text": [
      "<class 'pandas.core.frame.DataFrame'>\n",
      "RangeIndex: 1025 entries, 0 to 1024\n",
      "Data columns (total 7 columns):\n",
      " #   Column                  Non-Null Count  Dtype  \n",
      "---  ------                  --------------  -----  \n",
      " 0   District                1025 non-null   object \n",
      " 1   Service_Name            1025 non-null   object \n",
      " 2   Department              1025 non-null   object \n",
      " 3   Users_Reported          501 non-null    float64\n",
      " 4   Satisfaction_Score_(%)  510 non-null    float64\n",
      " 5   Year                    1025 non-null   int64  \n",
      " 6   Month                   937 non-null    object \n",
      "dtypes: float64(2), int64(1), object(4)\n",
      "memory usage: 56.2+ KB\n"
     ]
    },
    {
     "data": {
      "text/plain": [
       "(1025, 7)"
      ]
     },
     "execution_count": 2,
     "metadata": {},
     "output_type": "execute_result"
    }
   ],
   "source": [
    "# Check data types and non-null values\n",
    "df.info()\n",
    "\n",
    "# Get number of rows and columns\n",
    "df.shape\n"
   ]
  },
  {
   "cell_type": "code",
   "execution_count": 3,
   "id": "67a56087-f2d4-4b1e-bc3f-83e7618e9751",
   "metadata": {},
   "outputs": [
    {
     "data": {
      "text/plain": [
       "District                   0.000000\n",
       "Service_Name               0.000000\n",
       "Department                 0.000000\n",
       "Users_Reported            51.121951\n",
       "Satisfaction_Score_(%)    50.243902\n",
       "Year                       0.000000\n",
       "Month                      8.585366\n",
       "dtype: float64"
      ]
     },
     "execution_count": 3,
     "metadata": {},
     "output_type": "execute_result"
    }
   ],
   "source": [
    "# Check missing values\n",
    "df.isnull().sum()\n",
    "\n",
    "# Percentage of missing values per column\n",
    "df.isnull().mean() * 100\n"
   ]
  },
  {
   "cell_type": "code",
   "execution_count": 5,
   "id": "1c58a327-bf01-4f53-ae46-1573f914483c",
   "metadata": {},
   "outputs": [],
   "source": [
    "# Count duplicates\n",
    "df.duplicated().sum()\n",
    "\n",
    "# Remove duplicates if any\n",
    "df = df.drop_duplicates()\n"
   ]
  },
  {
   "cell_type": "code",
   "execution_count": 6,
   "id": "e34cecff-d5d0-40aa-aa41-382880696b0c",
   "metadata": {},
   "outputs": [],
   "source": [
    "# Clean string columns\n",
    "for col in df.select_dtypes(include='object'):\n",
    "    df[col] = df[col].str.strip().str.title()\n"
   ]
  },
  {
   "cell_type": "code",
   "execution_count": 7,
   "id": "f33d5da9-252a-42ed-ba25-e7aa28439fb5",
   "metadata": {},
   "outputs": [
    {
     "data": {
      "text/html": [
       "<div>\n",
       "<style scoped>\n",
       "    .dataframe tbody tr th:only-of-type {\n",
       "        vertical-align: middle;\n",
       "    }\n",
       "\n",
       "    .dataframe tbody tr th {\n",
       "        vertical-align: top;\n",
       "    }\n",
       "\n",
       "    .dataframe thead th {\n",
       "        text-align: right;\n",
       "    }\n",
       "</style>\n",
       "<table border=\"1\" class=\"dataframe\">\n",
       "  <thead>\n",
       "    <tr style=\"text-align: right;\">\n",
       "      <th></th>\n",
       "      <th>Users_Reported</th>\n",
       "      <th>Satisfaction_Score_(%)</th>\n",
       "      <th>Year</th>\n",
       "    </tr>\n",
       "  </thead>\n",
       "  <tbody>\n",
       "    <tr>\n",
       "      <th>count</th>\n",
       "      <td>491.000000</td>\n",
       "      <td>497.000000</td>\n",
       "      <td>1000.000000</td>\n",
       "    </tr>\n",
       "    <tr>\n",
       "      <th>mean</th>\n",
       "      <td>2520.600815</td>\n",
       "      <td>75.187123</td>\n",
       "      <td>2022.441000</td>\n",
       "    </tr>\n",
       "    <tr>\n",
       "      <th>std</th>\n",
       "      <td>1421.076054</td>\n",
       "      <td>14.515027</td>\n",
       "      <td>1.120614</td>\n",
       "    </tr>\n",
       "    <tr>\n",
       "      <th>min</th>\n",
       "      <td>51.000000</td>\n",
       "      <td>50.100000</td>\n",
       "      <td>2021.000000</td>\n",
       "    </tr>\n",
       "    <tr>\n",
       "      <th>25%</th>\n",
       "      <td>1292.500000</td>\n",
       "      <td>62.300000</td>\n",
       "      <td>2021.000000</td>\n",
       "    </tr>\n",
       "    <tr>\n",
       "      <th>50%</th>\n",
       "      <td>2447.000000</td>\n",
       "      <td>75.400000</td>\n",
       "      <td>2022.000000</td>\n",
       "    </tr>\n",
       "    <tr>\n",
       "      <th>75%</th>\n",
       "      <td>3780.500000</td>\n",
       "      <td>87.700000</td>\n",
       "      <td>2023.000000</td>\n",
       "    </tr>\n",
       "    <tr>\n",
       "      <th>max</th>\n",
       "      <td>4983.000000</td>\n",
       "      <td>100.000000</td>\n",
       "      <td>2024.000000</td>\n",
       "    </tr>\n",
       "  </tbody>\n",
       "</table>\n",
       "</div>"
      ],
      "text/plain": [
       "       Users_Reported  Satisfaction_Score_(%)         Year\n",
       "count      491.000000              497.000000  1000.000000\n",
       "mean      2520.600815               75.187123  2022.441000\n",
       "std       1421.076054               14.515027     1.120614\n",
       "min         51.000000               50.100000  2021.000000\n",
       "25%       1292.500000               62.300000  2021.000000\n",
       "50%       2447.000000               75.400000  2022.000000\n",
       "75%       3780.500000               87.700000  2023.000000\n",
       "max       4983.000000              100.000000  2024.000000"
      ]
     },
     "execution_count": 7,
     "metadata": {},
     "output_type": "execute_result"
    }
   ],
   "source": [
    "df.describe()  # Summary of numeric data\n"
   ]
  },
  {
   "cell_type": "code",
   "execution_count": 8,
   "id": "80f57a05-bdfb-4160-bd62-2ab1057fd1d2",
   "metadata": {},
   "outputs": [],
   "source": [
    "# Fill numeric missing values with median\n",
    "df['Users_Reported'] = df['Users_Reported'].fillna(df['Users_Reported'].median())\n"
   ]
  },
  {
   "cell_type": "code",
   "execution_count": 9,
   "id": "998f0451-831f-4e3f-8985-8f0bf4cff2db",
   "metadata": {},
   "outputs": [
    {
     "name": "stderr",
     "output_type": "stream",
     "text": [
      "C:\\Users\\Tasha\\AppData\\Local\\Temp\\ipykernel_7840\\581102236.py:1: UserWarning: Could not infer format, so each element will be parsed individually, falling back to `dateutil`. To ensure parsing is consistent and as-expected, please specify a format.\n",
      "  df['Month'] = pd.to_datetime(df['Month'], errors='coerce')\n"
     ]
    }
   ],
   "source": [
    "df['Month'] = pd.to_datetime(df['Month'], errors='coerce')\n"
   ]
  },
  {
   "cell_type": "code",
   "execution_count": 10,
   "id": "f72ec339-bf43-4592-b0d9-f009197be825",
   "metadata": {},
   "outputs": [],
   "source": [
    "for col in df.select_dtypes(include='object'):\n",
    "    df[col] = df[col].fillna('Unknown')\n"
   ]
  },
  {
   "cell_type": "code",
   "execution_count": 11,
   "id": "d2c5c7f1-70ca-406b-95cc-db18a4eb1d5b",
   "metadata": {},
   "outputs": [
    {
     "data": {
      "text/html": [
       "<div>\n",
       "<style scoped>\n",
       "    .dataframe tbody tr th:only-of-type {\n",
       "        vertical-align: middle;\n",
       "    }\n",
       "\n",
       "    .dataframe tbody tr th {\n",
       "        vertical-align: top;\n",
       "    }\n",
       "\n",
       "    .dataframe thead th {\n",
       "        text-align: right;\n",
       "    }\n",
       "</style>\n",
       "<table border=\"1\" class=\"dataframe\">\n",
       "  <thead>\n",
       "    <tr style=\"text-align: right;\">\n",
       "      <th></th>\n",
       "      <th>District</th>\n",
       "      <th>Service_Name</th>\n",
       "      <th>Department</th>\n",
       "      <th>Users_Reported</th>\n",
       "      <th>Satisfaction_Score_(%)</th>\n",
       "      <th>Year</th>\n",
       "      <th>Month</th>\n",
       "    </tr>\n",
       "  </thead>\n",
       "  <tbody>\n",
       "  </tbody>\n",
       "</table>\n",
       "</div>"
      ],
      "text/plain": [
       "Empty DataFrame\n",
       "Columns: [District, Service_Name, Department, Users_Reported, Satisfaction_Score_(%), Year, Month]\n",
       "Index: []"
      ]
     },
     "execution_count": 11,
     "metadata": {},
     "output_type": "execute_result"
    }
   ],
   "source": [
    "df[df['Users_Reported'] < 0]\n"
   ]
  },
  {
   "cell_type": "code",
   "execution_count": 12,
   "id": "1efe2861-0c2d-473b-bdd8-5ecf36263b57",
   "metadata": {},
   "outputs": [],
   "source": [
    "df.loc[df['Users_Reported'] < 0, 'Users_Reported'] = None\n"
   ]
  },
  {
   "cell_type": "code",
   "execution_count": 13,
   "id": "d8e27c4a-2e60-4416-9003-b976dced1d5c",
   "metadata": {},
   "outputs": [],
   "source": [
    "df.to_csv(\"DigitalServiceUsage_Rwanda_cleaned.csv\", index=False)\n"
   ]
  },
  {
   "cell_type": "code",
   "execution_count": null,
   "id": "db3b63c6-481c-4d8a-8847-f4f3564adff7",
   "metadata": {},
   "outputs": [],
   "source": []
  }
 ],
 "metadata": {
  "kernelspec": {
   "display_name": "Python 3 (ipykernel)",
   "language": "python",
   "name": "python3"
  },
  "language_info": {
   "codemirror_mode": {
    "name": "ipython",
    "version": 3
   },
   "file_extension": ".py",
   "mimetype": "text/x-python",
   "name": "python",
   "nbconvert_exporter": "python",
   "pygments_lexer": "ipython3",
   "version": "3.11.7"
  },
  "widgets": {
   "application/vnd.jupyter.widget-state+json": {
    "state": {},
    "version_major": 2,
    "version_minor": 0
   }
  }
 },
 "nbformat": 4,
 "nbformat_minor": 5
}
